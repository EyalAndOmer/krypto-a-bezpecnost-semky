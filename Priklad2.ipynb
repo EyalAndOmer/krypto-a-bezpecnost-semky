{
 "cells": [
  {
   "cell_type": "code",
   "outputs": [],
   "source": [
    "import numpy as np\n",
    "\n",
    "def text_to_numbers(text):\n",
    "    \"\"\"Convert a string of uppercase letters to a list of numbers (A=0, B=1, ..., Z=25).\"\"\"\n",
    "    return [ord(char) - ord('A') for char in text]\n",
    "\n",
    "def numbers_to_text(numbers):\n",
    "    \"\"\"Convert a list of numbers back to uppercase text (0=A, 1=B, ..., 25=Z).\"\"\"\n",
    "    return ''.join(chr(num + ord('A')) for num in numbers)"
   ],
   "metadata": {
    "collapsed": false,
    "ExecuteTime": {
     "end_time": "2024-10-26T10:11:28.528139300Z",
     "start_time": "2024-10-26T10:11:28.518981400Z"
    }
   },
   "id": "b9817218bd67e677",
   "execution_count": 187
  },
  {
   "cell_type": "code",
   "outputs": [],
   "source": [
    "def find_modular_inverse(determinant, modulus):\n",
    "    \"\"\"\n",
    "    Find the modular multiplicative inverse of `determinant` modulo `modulus`.\n",
    "\n",
    "    Parameters:\n",
    "    determinant (int): The determinant value.\n",
    "    modulus (int): The modulus value.\n",
    "\n",
    "    Returns:\n",
    "    int or None: The modular inverse if it exists, otherwise None.\n",
    "    \"\"\"\n",
    "    # Iterate through possible values for x (1 to modulus - 1)\n",
    "    for x in range(1, modulus):\n",
    "        if int((determinant * x) % modulus) == 1:\n",
    "            return x \n",
    "\n",
    "    return None"
   ],
   "metadata": {
    "collapsed": false,
    "ExecuteTime": {
     "end_time": "2024-10-26T10:16:02.111166600Z",
     "start_time": "2024-10-26T10:16:02.104754900Z"
    }
   },
   "id": "73b0e1f55e64cdec",
   "execution_count": 205
  },
  {
   "cell_type": "code",
   "outputs": [],
   "source": [
    "def hill_break(ciphertext, known_plaintext):\n",
    "    \"\"\"\n",
    "    Breaks the hill cipher on a given encrypted text by using the known plaintext attack\n",
    "\n",
    "    Parameters:\n",
    "    - ciphertext (str): Ciphertext segment to use.\n",
    "    - known_plaintext (str): Corresponding known plaintext segment.\n",
    "\n",
    "    Returns:\n",
    "    - np.array: Key matrix used for encryption of the given text\n",
    "    \"\"\"\n",
    "    known_plaintext_numbers = text_to_numbers(known_plaintext)\n",
    "    ciphertext_numbers = text_to_numbers(ciphertext[:9])\n",
    "    \n",
    "    equations = np.zeros((len(known_plaintext_numbers), 9), dtype=int)\n",
    "\n",
    "    for i in range(len(known_plaintext_numbers)):\n",
    "        base_index = (i // 3) * 3\n",
    "        if i % 3 == 0:\n",
    "            equations[i, :3] = known_plaintext_numbers[base_index:base_index + 3]\n",
    "        elif i % 3 == 1:\n",
    "            equations[i, 3:6] = known_plaintext_numbers[base_index:base_index + 3]\n",
    "        elif i % 3 == 2:\n",
    "            equations[i, 6:] = known_plaintext_numbers[base_index:base_index + 3]\n",
    "            \n",
    "    inverse_equations = np.linalg.inv(equations)\n",
    "    equation_determinant = np.linalg.det(equations)\n",
    "    multiplied =  equation_determinant * inverse_equations\n",
    "    \n",
    "    modular_inverse_value = find_modular_inverse(equation_determinant, 26)\n",
    "    final = np.mod(np.mod(multiplied, 26) * modular_inverse_value, 26)\n",
    "\n",
    "    return np.mod(final.dot(np.array(ciphertext_numbers).reshape(-1, 1)), 26).round().reshape(3, 3)\n"
   ],
   "metadata": {
    "collapsed": false,
    "ExecuteTime": {
     "end_time": "2024-10-26T10:18:57.015168900Z",
     "start_time": "2024-10-26T10:18:57.008860400Z"
    }
   },
   "id": "b1a979d9197adfb7",
   "execution_count": 211
  },
  {
   "cell_type": "code",
   "outputs": [],
   "source": [
    "def mod_inverse(a, m):\n",
    "    \"\"\"Return the modular inverse of a under modulo m.\"\"\"\n",
    "    m0, x0, x1 = m, 0, 1\n",
    "    if m == 1:\n",
    "        return 0\n",
    "    while a > 1:\n",
    "        q = a // m\n",
    "        m, a = a % m, m\n",
    "        x0, x1 = x1 - q * x0, x0\n",
    "    if x1 < 0:\n",
    "        x1 += m0\n",
    "    return x1\n",
    "\n",
    "def get_inverse_key_matrix(A):\n",
    "    def determinant_mod_26(matrix):\n",
    "        \"\"\"\n",
    "         # Function to compute the determinant mod 26\n",
    "        :param matrix: \n",
    "        :return: \n",
    "        \"\"\"\n",
    "        det = int(round(np.linalg.det(matrix)))  # Calculate determinant\n",
    "        return det % 26\n",
    "    \n",
    "    def mod_inverse(a, mod=26):\n",
    "        \"\"\"\n",
    "        # Function to find modular multiplicative inverse of a number with a given modulo\n",
    "        :param a: \n",
    "        :param mod: \n",
    "        :return: \n",
    "        \"\"\"\n",
    "        for x in range(1, mod):\n",
    "            if (a * x) % mod == 1:\n",
    "                return x\n",
    "        return None\n",
    "    \n",
    "    def adjugate_mod_26(matrix):\n",
    "        \"\"\"\n",
    "        Function to compute the adjugate matrix mod 26\n",
    "        :param matrix: \n",
    "        :return: \n",
    "        \"\"\"\n",
    "        cofactor_matrix = np.zeros((3, 3), dtype=int)\n",
    "        \n",
    "        # Compute cofactor matrix\n",
    "        for i in range(3):\n",
    "            for j in range(3):\n",
    "                minor = np.delete(np.delete(matrix, i, axis=0), j, axis=1)\n",
    "                cofactor = ((-1) ** (i + j)) * int(round(np.linalg.det(minor)))\n",
    "                cofactor_matrix[i, j] = cofactor\n",
    "        \n",
    "        # Adjugate is the transpose of the cofactor matrix\n",
    "        adjugate = cofactor_matrix.T % 26\n",
    "        return adjugate\n",
    "    \n",
    "    # Calculate determinant and its mod 26 inverse\n",
    "    det_A = determinant_mod_26(A)\n",
    "    det_A_inv = mod_inverse(det_A)\n",
    "    \n",
    "    # Compute adjugate of A mod 26\n",
    "    adj_A = adjugate_mod_26(A)\n",
    "    \n",
    "    # Multiply the adjugate by the determinant inverse, then take mod 26 for each entry\n",
    "    A_inv_mod_26 = (det_A_inv * adj_A) % 26\n",
    "    \n",
    "    # Display the inverse matrix\n",
    "    return A_inv_mod_26\n",
    "\n",
    "\n",
    "def hill_cipher_decode(ciphertext, key_matrix):\n",
    "    \"\"\"Decrypts a ciphertext using the Hill cipher with the given key matrix.\"\"\"\n",
    "    # Prepare ciphertext as numerical vectors\n",
    "    ciphertext_vector = [ord(char) - ord('A') for char in ciphertext]\n",
    "    \n",
    "    # Reshape ciphertext into blocks matching key matrix size\n",
    "    n = key_matrix.shape[0]\n",
    "    ciphertext_blocks = [ciphertext_vector[i:i+n] for i in range(0, len(ciphertext_vector), n)]\n",
    "    \n",
    "    # Get inverse key matrix\n",
    "    inv_key_matrix = get_inverse_key_matrix(key_matrix)\n",
    "        \n",
    "    # Decrypt each block\n",
    "    decrypted_text = \"\"\n",
    "    for block in ciphertext_blocks:\n",
    "        decrypted_block = np.dot(inv_key_matrix, block) % 26\n",
    "        decrypted_text += ''.join(chr(num + ord('A')) for num in decrypted_block)\n",
    "    \n",
    "    return decrypted_text"
   ],
   "metadata": {
    "collapsed": false,
    "ExecuteTime": {
     "end_time": "2024-10-26T10:18:57.308167900Z",
     "start_time": "2024-10-26T10:18:57.298913100Z"
    }
   },
   "id": "e786c652bf018346",
   "execution_count": 212
  },
  {
   "cell_type": "code",
   "execution_count": 213,
   "id": "initial_id",
   "metadata": {
    "collapsed": true,
    "ExecuteTime": {
     "end_time": "2024-10-26T10:18:57.642872200Z",
     "start_time": "2024-10-26T10:18:57.634818800Z"
    }
   },
   "outputs": [
    {
     "data": {
      "text/plain": "'DRAHYJURAJPRIDDNESVECERZAMNOUMILUJEMTAA'"
     },
     "execution_count": 213,
     "metadata": {},
     "output_type": "execute_result"
    }
   ],
   "source": [
    "ciphertext = 'BALQTGFGYNFUHVLOIVCGPRZJUTHGWOVWCWAJGWN'\n",
    "known_plaintext = 'DRAHYJURA'\n",
    "\n",
    "key_matrix = hill_break(ciphertext, known_plaintext)\n",
    "hill_cipher_decode(ciphertext, key_matrix)"
   ]
  },
  {
   "cell_type": "code",
   "outputs": [
    {
     "data": {
      "text/plain": "'DRAHYJURAJUZZAMNONECHODMAMDRUHEHO'"
     },
     "execution_count": 214,
     "metadata": {},
     "output_type": "execute_result"
    }
   ],
   "source": [
    "ciphertext = 'PCPOVZOJYEJXJLVINLJMIAVAVEUKZLERO'\n",
    "known_plaintext = 'DRAHYJURA'\n",
    "\n",
    "key_matrix = hill_break(ciphertext, known_plaintext)\n",
    "hill_cipher_decode(ciphertext, key_matrix)"
   ],
   "metadata": {
    "collapsed": false,
    "ExecuteTime": {
     "end_time": "2024-10-26T10:18:58.132196800Z",
     "start_time": "2024-10-26T10:18:58.118932500Z"
    }
   },
   "id": "4aa78462208c8c9c",
   "execution_count": 214
  },
  {
   "cell_type": "code",
   "outputs": [
    {
     "data": {
      "text/plain": "'DRAHYJURAJBOLASOMHLUPAODPUSTMI'"
     },
     "execution_count": 215,
     "metadata": {},
     "output_type": "execute_result"
    }
   ],
   "source": [
    "ciphertext = 'NMUSMRFJGRWSWVKKDJKYTYTNSVMOJW'\n",
    "known_plaintext = 'DRAHYJURA'\n",
    "\n",
    "key_matrix = hill_break(ciphertext, known_plaintext)\n",
    "hill_cipher_decode(ciphertext, key_matrix)"
   ],
   "metadata": {
    "collapsed": false,
    "ExecuteTime": {
     "end_time": "2024-10-26T10:18:58.643027800Z",
     "start_time": "2024-10-26T10:18:58.620317500Z"
    }
   },
   "id": "258aa86d16700caf",
   "execution_count": 215
  },
  {
   "cell_type": "code",
   "outputs": [],
   "source": [],
   "metadata": {
    "collapsed": false
   },
   "id": "44bf976f982e0947"
  }
 ],
 "metadata": {
  "kernelspec": {
   "display_name": "Python 3",
   "language": "python",
   "name": "python3"
  },
  "language_info": {
   "codemirror_mode": {
    "name": "ipython",
    "version": 2
   },
   "file_extension": ".py",
   "mimetype": "text/x-python",
   "name": "python",
   "nbconvert_exporter": "python",
   "pygments_lexer": "ipython2",
   "version": "2.7.6"
  }
 },
 "nbformat": 4,
 "nbformat_minor": 5
}
