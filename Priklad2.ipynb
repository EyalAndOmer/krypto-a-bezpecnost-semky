{
 "cells": [
  {
   "metadata": {
    "ExecuteTime": {
     "end_time": "2024-10-18T21:23:27.325384Z",
     "start_time": "2024-10-18T21:23:27.275008Z"
    }
   },
   "cell_type": "code",
   "source": [
    "import numpy as np\n",
    "\n",
    "def text_to_numbers(text):\n",
    "    return [ord(char) - ord('A') for char in text]\n",
    "\n",
    "def mod_inverse(a, m):\n",
    "    for x in range(1, m):\n",
    "        if (a * x) % m == 1:\n",
    "            return x\n",
    "    return -1\n",
    "\n",
    "def mod_matrix_inverse(matrix, mod):\n",
    "    det = int(np.round(np.linalg.det(matrix)))\n",
    "    det_inv = mod_inverse(det, mod)\n",
    "    if det_inv == -1:\n",
    "        raise ValueError(\"Matrix is not invertible\")\n",
    "\n",
    "    matrix_minor = np.linalg.inv(matrix).T * det\n",
    "    adj_matrix = matrix_minor % mod\n",
    "    inv_matrix = (det_inv * adj_matrix) % mod\n",
    "    return inv_matrix.astype(int)\n",
    "\n",
    "def find_key_matrix(plain_text, cipher_text):\n",
    "    plain_numbers = text_to_numbers(plain_text)\n",
    "    cipher_numbers = text_to_numbers(cipher_text)\n",
    "    \n",
    "    n = 3\n",
    "    plain_matrix = np.array([plain_numbers[i:i+n] for i in range(0, len(plain_numbers), n)]).T\n",
    "    cipher_matrix = np.array([cipher_numbers[i:i+n] for i in range(0, len(cipher_numbers), n)]).T\n",
    "    \n",
    "    plain_matrix_inv = mod_matrix_inverse(plain_matrix, 26)\n",
    "    key_matrix = (plain_matrix_inv.dot(cipher_matrix) % 26).astype(int)\n",
    "    return key_matrix\n",
    "\n",
    "plain_text = \"DRAHYJURA\"\n",
    "cipher_text = \"BALQTGFGYN\"\n",
    "\n",
    "key_matrix = find_key_matrix(plain_text, cipher_text)\n",
    "print(\"Key Matrix:\")\n",
    "print(key_matrix)\n"
   ],
   "id": "8813efd0b7c81194",
   "outputs": [
    {
     "ename": "ValueError",
     "evalue": "setting an array element with a sequence. The requested array has an inhomogeneous shape after 1 dimensions. The detected shape was (4,) + inhomogeneous part.",
     "output_type": "error",
     "traceback": [
      "\u001B[0;31m---------------------------------------------------------------------------\u001B[0m",
      "\u001B[0;31mValueError\u001B[0m                                Traceback (most recent call last)",
      "Cell \u001B[0;32mIn[35], line 38\u001B[0m\n\u001B[1;32m     35\u001B[0m plain_text \u001B[38;5;241m=\u001B[39m \u001B[38;5;124m\"\u001B[39m\u001B[38;5;124mDRAHYJURA\u001B[39m\u001B[38;5;124m\"\u001B[39m\n\u001B[1;32m     36\u001B[0m cipher_text \u001B[38;5;241m=\u001B[39m \u001B[38;5;124m\"\u001B[39m\u001B[38;5;124mBALQTGFGYN\u001B[39m\u001B[38;5;124m\"\u001B[39m\n\u001B[0;32m---> 38\u001B[0m key_matrix \u001B[38;5;241m=\u001B[39m \u001B[43mfind_key_matrix\u001B[49m\u001B[43m(\u001B[49m\u001B[43mplain_text\u001B[49m\u001B[43m,\u001B[49m\u001B[43m \u001B[49m\u001B[43mcipher_text\u001B[49m\u001B[43m)\u001B[49m\n\u001B[1;32m     39\u001B[0m \u001B[38;5;28mprint\u001B[39m(\u001B[38;5;124m\"\u001B[39m\u001B[38;5;124mKey Matrix:\u001B[39m\u001B[38;5;124m\"\u001B[39m)\n\u001B[1;32m     40\u001B[0m \u001B[38;5;28mprint\u001B[39m(key_matrix)\n",
      "Cell \u001B[0;32mIn[35], line 29\u001B[0m, in \u001B[0;36mfind_key_matrix\u001B[0;34m(plain_text, cipher_text)\u001B[0m\n\u001B[1;32m     27\u001B[0m n \u001B[38;5;241m=\u001B[39m \u001B[38;5;241m3\u001B[39m\n\u001B[1;32m     28\u001B[0m plain_matrix \u001B[38;5;241m=\u001B[39m np\u001B[38;5;241m.\u001B[39marray([plain_numbers[i:i\u001B[38;5;241m+\u001B[39mn] \u001B[38;5;28;01mfor\u001B[39;00m i \u001B[38;5;129;01min\u001B[39;00m \u001B[38;5;28mrange\u001B[39m(\u001B[38;5;241m0\u001B[39m, \u001B[38;5;28mlen\u001B[39m(plain_numbers), n)])\u001B[38;5;241m.\u001B[39mT\n\u001B[0;32m---> 29\u001B[0m cipher_matrix \u001B[38;5;241m=\u001B[39m \u001B[43mnp\u001B[49m\u001B[38;5;241;43m.\u001B[39;49m\u001B[43marray\u001B[49m\u001B[43m(\u001B[49m\u001B[43m[\u001B[49m\u001B[43mcipher_numbers\u001B[49m\u001B[43m[\u001B[49m\u001B[43mi\u001B[49m\u001B[43m:\u001B[49m\u001B[43mi\u001B[49m\u001B[38;5;241;43m+\u001B[39;49m\u001B[43mn\u001B[49m\u001B[43m]\u001B[49m\u001B[43m \u001B[49m\u001B[38;5;28;43;01mfor\u001B[39;49;00m\u001B[43m \u001B[49m\u001B[43mi\u001B[49m\u001B[43m \u001B[49m\u001B[38;5;129;43;01min\u001B[39;49;00m\u001B[43m \u001B[49m\u001B[38;5;28;43mrange\u001B[39;49m\u001B[43m(\u001B[49m\u001B[38;5;241;43m0\u001B[39;49m\u001B[43m,\u001B[49m\u001B[43m \u001B[49m\u001B[38;5;28;43mlen\u001B[39;49m\u001B[43m(\u001B[49m\u001B[43mcipher_numbers\u001B[49m\u001B[43m)\u001B[49m\u001B[43m,\u001B[49m\u001B[43m \u001B[49m\u001B[43mn\u001B[49m\u001B[43m)\u001B[49m\u001B[43m]\u001B[49m\u001B[43m)\u001B[49m\u001B[38;5;241m.\u001B[39mT\n\u001B[1;32m     31\u001B[0m plain_matrix_inv \u001B[38;5;241m=\u001B[39m mod_matrix_inverse(plain_matrix, \u001B[38;5;241m26\u001B[39m)\n\u001B[1;32m     32\u001B[0m key_matrix \u001B[38;5;241m=\u001B[39m (plain_matrix_inv\u001B[38;5;241m.\u001B[39mdot(cipher_matrix) \u001B[38;5;241m%\u001B[39m \u001B[38;5;241m26\u001B[39m)\u001B[38;5;241m.\u001B[39mastype(\u001B[38;5;28mint\u001B[39m)\n",
      "\u001B[0;31mValueError\u001B[0m: setting an array element with a sequence. The requested array has an inhomogeneous shape after 1 dimensions. The detected shape was (4,) + inhomogeneous part."
     ]
    }
   ],
   "execution_count": 35
  },
  {
   "metadata": {
    "ExecuteTime": {
     "end_time": "2024-10-19T11:30:23.288611Z",
     "start_time": "2024-10-19T11:30:23.279630Z"
    }
   },
   "cell_type": "code",
   "source": [
    "# save_dummy_model.py\n",
    "import pickle\n",
    "import os\n",
    "from sklearn.dummy import DummyClassifier\n",
    "from sklearn.datasets import load_iris\n",
    "\n",
    "# Load a sample dataset (e.g., Iris dataset)\n",
    "data = load_iris()\n",
    "X, y = data.data, data.target\n",
    "\n",
    "# Create a DummyClassifier that predicts the most frequent class\n",
    "dummy_model = DummyClassifier(strategy=\"most_frequent\")\n",
    "dummy_model.fit(X, y)  # Fit the dummy model to the data\n",
    "\n",
    "# Create the 'models' directory if it doesn't exist\n",
    "model_dir = 'models'\n",
    "if not os.path.exists(model_dir):\n",
    "    os.makedirs(model_dir)\n",
    "\n",
    "# Save the dummy model to a .pkl file\n",
    "model_path = os.path.join(model_dir, 'dummy_model.pkl')\n",
    "with open(model_path, 'wb') as f:\n",
    "    pickle.dump(dummy_model, f)\n",
    "\n",
    "print(f\"Dummy model saved at {model_path}!\")\n"
   ],
   "id": "77bb9f3f39f053e3",
   "outputs": [
    {
     "name": "stdout",
     "output_type": "stream",
     "text": [
      "Dummy model saved at models/dummy_model.pkl!\n"
     ]
    }
   ],
   "execution_count": 3
  }
 ],
 "metadata": {
  "kernelspec": {
   "display_name": "Python 3",
   "language": "python",
   "name": "python3"
  },
  "language_info": {
   "codemirror_mode": {
    "name": "ipython",
    "version": 2
   },
   "file_extension": ".py",
   "mimetype": "text/x-python",
   "name": "python",
   "nbconvert_exporter": "python",
   "pygments_lexer": "ipython2",
   "version": "2.7.6"
  }
 },
 "nbformat": 4,
 "nbformat_minor": 5
}
